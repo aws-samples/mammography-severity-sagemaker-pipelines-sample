{
 "cells": [
  {
   "cell_type": "markdown",
   "id": "7151485b-2002-4907-bae4-eee895d7d6f5",
   "metadata": {},
   "source": [
    "## Mammography Severity - Binary Classification Model using XGBoost Framework"
   ]
  },
  {
   "cell_type": "markdown",
   "id": "adbb5c38-08de-4a03-97ec-fbc1807fc3ba",
   "metadata": {},
   "source": [
    "### Introduction"
   ]
  },
  {
   "cell_type": "markdown",
   "id": "85c603ec-57f9-4869-ae90-fe4152ced2f0",
   "metadata": {},
   "source": [
    "This notebook walks through using the mammography severity dataset from UCI to build a binary classification model using the XGBoost framework. SageMaker Pipelines is leveraged to orchestrate training of the model and also to generate inferences on a scheduled basis. "
   ]
  },
  {
   "cell_type": "markdown",
   "id": "3d420f83-77e0-4670-b109-e6b78add3d90",
   "metadata": {},
   "source": [
    "### Step 1: Mammography Severity Dataset"
   ]
  },
  {
   "cell_type": "markdown",
   "id": "617f408e-0f1f-469d-8d1d-b5e83985f17d",
   "metadata": {},
   "source": [
    "This data set can be used to predict the severity (benign or malignant) of a mammographic mass lesion from BI-RADS attributes and the patient's age. It contains a BI-RADS assessment, the patient's age and three BI-RADS attributes together with the ground truth (the severity field) for 516 benign and 445 malignant masses that have been identified on full field digital mammograms collected at the Institute of Radiology of the University Erlangen-Nuremberg between 2003 and 2006.\n",
    "\n",
    "Reference: https://archive.ics.uci.edu/ml/datasets/mammographic+mass"
   ]
  },
  {
   "cell_type": "markdown",
   "id": "eefede36-4805-4cac-a826-3860fd6c0326",
   "metadata": {},
   "source": [
    "%%html\n",
    "<style>\n",
    "table {float:left}\n",
    "</style>"
   ]
  },
  {
   "cell_type": "markdown",
   "id": "5d07bf98-578e-4c50-8641-66d80687946b",
   "metadata": {
    "tags": []
   },
   "source": [
    "| Column| Description |\n",
    "| --- | --- |\n",
    "| BI-RADS assessment | 1 to 5 (ordinal) |\n",
    "| Age | patient's age in years (integer) |\n",
    "| Shape | mass shape: round=1 oval=2 lobular=3 irregular=4 (nominal) |\n",
    "| Margin | mass margin: circumscribed=1 microlobulated=2 obscured=3 ill-defined=4 spiculated=5 (nominal) |\n",
    "| Density | mass density high=1 iso=2 low=3 fat-containing=4 (ordinal) |\n",
    "| Severity | benign=0 or malignant=1 (binominal) |"
   ]
  },
  {
   "cell_type": "markdown",
   "id": "104c2844-307f-425e-8511-7f905cedcf23",
   "metadata": {},
   "source": [
    "### 2. Import Packages and Constants"
   ]
  },
  {
   "cell_type": "code",
   "execution_count": 2,
   "id": "e1f2b3ff-bdb4-45a3-9e0c-40fa9bf703a9",
   "metadata": {
    "tags": []
   },
   "outputs": [],
   "source": [
    "import boto3\n",
    "import sagemaker\n",
    "import numpy as np\n",
    "import pandas as pd\n",
    "from sklearn.compose import ColumnTransformer\n",
    "from sklearn.impute import SimpleImputer\n",
    "from sklearn.pipeline import Pipeline\n",
    "from sklearn.preprocessing import StandardScaler, OneHotEncoder"
   ]
  },
  {
   "cell_type": "code",
   "execution_count": 3,
   "id": "20ca0800-47f1-4108-ab20-2e33093f38c5",
   "metadata": {
    "tags": []
   },
   "outputs": [],
   "source": [
    "#Replace the values based on the resoures created\n",
    "default_bucket = \"<s3-bucket-in-dev-account>\"\n",
    "model_artifacts_bucket = \"<s3-bucket-in-central-model-registry-account>\"\n",
    "region = \"us-east-1\"\n",
    "model_name = \"mammography-severity-model\"\n",
    "role = sagemaker.get_execution_role()\n",
    "lambda_role = \"arn:aws:iam::<dev-account-id>:role/lambda-sagemaker-role\"\n",
    "kms_key = \"arn:aws:kms:us-east-1:<dev-account-id>:key/<kms-key-id-in-dev-account>\"\n",
    "model_package_group_name=\"arn:aws:sagemaker:us-east-1:<central-model-registry-account-id>:model-package-group/mammo-severity-model-package\""
   ]
  },
  {
   "cell_type": "code",
   "execution_count": 4,
   "id": "2b06bf79-24a5-468c-9fe8-b37d34217ee1",
   "metadata": {
    "tags": []
   },
   "outputs": [],
   "source": [
    "feature_columns_names = [\n",
    "    'BIRADS',\n",
    "    'Age',\n",
    "    'Shape',\n",
    "    'Margin',\n",
    "    'Density',\n",
    "]\n",
    "feature_columns_dtype = {\n",
    "    'BIRADS': np.float64,\n",
    "    'Age': np.float64,\n",
    "    'Shape': np.float64,\n",
    "    'Margin': np.float64,\n",
    "    'Density': np.float64,\n",
    "}"
   ]
  },
  {
   "cell_type": "markdown",
   "id": "9dee552b-5445-4351-8746-b037178c80a0",
   "metadata": {
    "tags": []
   },
   "source": [
    "### 3. Generate raw, batch and batch with outliers datasets"
   ]
  },
  {
   "cell_type": "markdown",
   "id": "0aa70468-1286-4077-bc47-25d9506b95da",
   "metadata": {},
   "source": [
    "#### 3.1 Raw Dataset"
   ]
  },
  {
   "cell_type": "code",
   "execution_count": 5,
   "id": "c9a4be44-4fd2-486b-abb1-1478cf944268",
   "metadata": {
    "tags": []
   },
   "outputs": [],
   "source": [
    "mammographic_data = pd.read_csv(\"data/mammographic_masses.data\",header=None)"
   ]
  },
  {
   "cell_type": "code",
   "execution_count": 6,
   "id": "d9a3cc89-51da-414d-95e0-bf5b461f032f",
   "metadata": {
    "tags": []
   },
   "outputs": [],
   "source": [
    "# split data into batch and raw datasets\n",
    "batch_df =mammographic_data.sample(frac=0.05,random_state=200)\n",
    "raw_df =mammographic_data.drop(batch_df.index)"
   ]
  },
  {
   "cell_type": "code",
   "execution_count": 7,
   "id": "a6de02c8-f9e3-4699-8b71-aec691628633",
   "metadata": {
    "tags": []
   },
   "outputs": [],
   "source": [
    "# Split the raw datasets to two parts, one of which will be used to train\n",
    "#the model initially and then other dataset will be leveraged when \n",
    "#retraining the model\n",
    "train_dataset_part2 =raw_df.sample(frac=0.1,random_state=200)\n",
    "train_dataset_part1 =raw_df.drop(train_dataset_part2.index)"
   ]
  },
  {
   "cell_type": "code",
   "execution_count": 8,
   "id": "8361f43e-0b50-4bb5-8bb6-ddff5cee024c",
   "metadata": {
    "tags": []
   },
   "outputs": [],
   "source": [
    "# save the train datasets \n",
    "train_dataset_part1.to_csv(\"data/mammo-train-dataset-part1.csv\",index=False)\n",
    "train_dataset_part2.to_csv(\"data/mammo-train-dataset-part2.csv\",index=False)"
   ]
  },
  {
   "cell_type": "markdown",
   "id": "7a614fa1-a20e-493b-8c73-84629b0ea78d",
   "metadata": {},
   "source": [
    "#### 3.2 Batch Dataset"
   ]
  },
  {
   "cell_type": "code",
   "execution_count": 9,
   "id": "585bbdef-fa0e-48a2-9ec9-bcfb3bfe08d1",
   "metadata": {
    "tags": []
   },
   "outputs": [],
   "source": [
    "# remove label column from the batch dataset which will be used to generate inferences\n",
    "batch_df.drop(5,axis=1,inplace=True)"
   ]
  },
  {
   "cell_type": "code",
   "execution_count": 10,
   "id": "1b22dce0-720a-40dc-b483-65c60de9e5eb",
   "metadata": {
    "tags": []
   },
   "outputs": [],
   "source": [
    "# create a copy of the batch dataset \n",
    "batch_modified_df = batch_df"
   ]
  },
  {
   "cell_type": "code",
   "execution_count": 11,
   "id": "6528632c-fdcf-41ae-862b-64254de5728e",
   "metadata": {
    "tags": []
   },
   "outputs": [],
   "source": [
    "def preprocess_batch_data(feature_columns_names,feature_columns_dtype,batch_df):\n",
    "    batch_df.replace(\"?\", \"NaN\", inplace = True)\n",
    "    batch_df.columns = feature_columns_names\n",
    "    batch_df = batch_df.astype(feature_columns_dtype)\n",
    "    numeric_transformer = Pipeline( \n",
    "        steps=[(\"imputer\", SimpleImputer(strategy=\"median\"))]\n",
    "        )\n",
    "    numeric_features = list(feature_columns_names)\n",
    "    preprocess = ColumnTransformer(\n",
    "        transformers=[\n",
    "            (\"num\", numeric_transformer, numeric_features)\n",
    "        ]\n",
    "    ) \n",
    "    batch_df = preprocess.fit_transform(batch_df)\n",
    "    return batch_df"
   ]
  },
  {
   "cell_type": "code",
   "execution_count": 12,
   "id": "ecca7b8d-e8a7-42cf-9ffb-6eff7ff3947f",
   "metadata": {
    "tags": []
   },
   "outputs": [],
   "source": [
    "# save the batch dataset file\n",
    "batch_df = preprocess_batch_data(feature_columns_names,feature_columns_dtype,batch_df)\n",
    "pd.DataFrame(batch_df).to_csv(\"data/mammo-batch-dataset.csv\", header=False, index=False)"
   ]
  },
  {
   "cell_type": "markdown",
   "id": "65610e4e-4332-4256-898c-18f0a3e88a6f",
   "metadata": {},
   "source": [
    "#### 3.3 Batch Dataset with Outliers"
   ]
  },
  {
   "cell_type": "code",
   "execution_count": 13,
   "id": "16c6d3a9-814f-4ff2-b642-def6c102a275",
   "metadata": {
    "tags": []
   },
   "outputs": [],
   "source": [
    "# modify batch dataset to introduce missing values\n",
    "batch_modified_df.replace(\"?\", \"NaN\", inplace = True)\n",
    "batch_modified_df.columns = feature_columns_names\n",
    "batch_modified_df = batch_modified_df.astype(feature_columns_dtype)\n",
    "# save the batch dataset with outliers file\n",
    "batch_modified_df.to_csv(\"data/mammo-batch-dataset-outliers.csv\",index=False)"
   ]
  },
  {
   "cell_type": "markdown",
   "id": "f939d94b-9cd8-410c-b6cf-9bbe3de20ca2",
   "metadata": {},
   "source": [
    "### 4. Copy Train Dataset Part 1, Batch Dataset with and without Outliers  into S3 Bucket"
   ]
  },
  {
   "cell_type": "code",
   "execution_count": 14,
   "id": "36f432ea-24d5-4878-a234-6adbca1c1da0",
   "metadata": {
    "tags": []
   },
   "outputs": [
    {
     "name": "stderr",
     "output_type": "stream",
     "text": [
      "/opt/conda/lib/python3.7/site-packages/boto3/compat.py:82: PythonDeprecationWarning: Boto3 will no longer support Python 3.7 starting December 13, 2023. To continue receiving service updates, bug fixes, and security updates please upgrade to Python 3.8 or later. More information can be found here: https://aws.amazon.com/blogs/developer/python-support-policy-updates-for-aws-sdks-and-tools/\n",
      "  warnings.warn(warning, PythonDeprecationWarning)\n"
     ]
    }
   ],
   "source": [
    "s3_client = boto3.resource('s3')\n",
    "s3_client.Bucket(default_bucket).upload_file(\"data/mammo-train-dataset-part1.csv\",\"mammography-severity-model/data/train-dataset/mammo-train-dataset-part1.csv\")\n",
    "s3_client.Bucket(default_bucket).upload_file(\"data/mammo-batch-dataset.csv\",\"mammography-severity-model/data/batch-dataset/mammo-batch-dataset.csv\")\n",
    "s3_client.Bucket(default_bucket).upload_file(\"data/mammo-batch-dataset-outliers.csv\",\"mammography-severity-model/data/batch-dataset/mammo-batch-dataset-outliers.csv\")"
   ]
  },
  {
   "cell_type": "markdown",
   "id": "9f0df154-c4ba-477a-b5cf-9a1a41c08d73",
   "metadata": {},
   "source": [
    "### 5. Generate Script to PreProcess Raw Dataset"
   ]
  },
  {
   "cell_type": "code",
   "execution_count": 15,
   "id": "8be718eb-ad10-468b-aaab-49ea3a37f951",
   "metadata": {
    "tags": []
   },
   "outputs": [
    {
     "name": "stdout",
     "output_type": "stream",
     "text": [
      "Overwriting pipelines/train/scripts/raw_preprocess.py\n"
     ]
    }
   ],
   "source": [
    "%%writefile pipelines/train/scripts/raw_preprocess.py\n",
    "\n",
    "import argparse\n",
    "import os\n",
    "import glob\n",
    "import requests\n",
    "import tempfile\n",
    "\n",
    "import numpy as np\n",
    "import pandas as pd\n",
    "\n",
    "from sklearn.compose import ColumnTransformer\n",
    "from sklearn.impute import SimpleImputer\n",
    "from sklearn.pipeline import Pipeline\n",
    "from sklearn.preprocessing import StandardScaler, OneHotEncoder\n",
    "\n",
    "# Since we get a headerless CSV file, we specify the column names here.\n",
    "feature_columns_names = [\n",
    "    'BIRADS',\n",
    "    'Age',\n",
    "    'Shape',\n",
    "    'Margin',\n",
    "    'Density',\n",
    "]\n",
    "\n",
    "label_column = 'Severity'\n",
    "\n",
    "feature_columns_dtype = {\n",
    "    'BIRADS': np.float64,\n",
    "    'Age': np.float64,\n",
    "    'Shape': np.float64,\n",
    "    'Margin': np.float64,\n",
    "    'Density': np.float64,\n",
    "}\n",
    "\n",
    "#benign=0 or malignant=1 \n",
    "label_column_dtype = {'Severity': bool}\n",
    "\n",
    "\n",
    "def merge_two_dicts(x, y):\n",
    "    z = x.copy()\n",
    "    z.update(y)\n",
    "    return z\n",
    "\n",
    "if __name__ == \"__main__\":\n",
    "    \n",
    "    base_dir = \"/opt/ml/processing\" \n",
    "    data_files = glob.glob(f\"{base_dir}/input/*.csv\")\n",
    "    df = pd.concat((pd.read_csv(f) for f in data_files))\n",
    "    df.replace(\"?\", \"NaN\", inplace = True)\n",
    "    df.columns = feature_columns_names + [label_column]\n",
    "    feature_dtypes = merge_two_dicts(feature_columns_dtype, label_column_dtype)\n",
    "    df = df.astype(feature_dtypes)\n",
    "    \n",
    "    numeric_features = list(feature_columns_names)\n",
    "    numeric_transformer = Pipeline( \n",
    "        steps=[(\"imputer\", SimpleImputer(strategy=\"median\"))]\n",
    "    )\n",
    "\n",
    "    # This estimator allows different columns or column subsets of the input to be transformed separately and the features generated by each \n",
    "    # transformer will be concatenated to form a single feature space. This is useful for heterogeneous or columnar data, to combine several \n",
    "    # feature extraction mechanisms or transformations into a single transformer.\n",
    "    preprocess = ColumnTransformer(\n",
    "        transformers=[\n",
    "            (\"num\", numeric_transformer, numeric_features)\n",
    "        ]\n",
    "    )\n",
    "\n",
    "    y = df.pop(\"Severity\") \n",
    "\n",
    "    X_pre = preprocess.fit_transform(df)\n",
    "    y_pre = y.to_numpy().reshape(len(y), 1)\n",
    "\n",
    "    X = np.concatenate((y_pre, X_pre), axis=1)\n",
    "    np.random.shuffle(X)\n",
    "    train, validation, test = np.split(X, [int(0.7 * len(X)), int(0.85 * len(X))])\n",
    "\n",
    "    pd.DataFrame(train).to_csv(f\"{base_dir}/train/train.csv\", header=False, index=False)\n",
    "    pd.DataFrame(validation).to_csv(\n",
    "        f\"{base_dir}/validation/validation.csv\", header=False, index=False\n",
    "    )\n",
    "    pd.DataFrame(test).to_csv(f\"{base_dir}/test/test.csv\", header=False, index=False)\n",
    "    pd.DataFrame(X_pre).to_csv(f\"{base_dir}/baseline/baseline_dataset.csv\", header=False, index=False)"
   ]
  },
  {
   "cell_type": "markdown",
   "id": "99404302-194d-44ad-b416-094020a3a58f",
   "metadata": {},
   "source": [
    "### 6. Generate Script to Evaluate Model"
   ]
  },
  {
   "cell_type": "code",
   "execution_count": 25,
   "id": "0d767cfd-3869-4ec8-8c7f-807ddaa0d98e",
   "metadata": {
    "tags": []
   },
   "outputs": [
    {
     "name": "stdout",
     "output_type": "stream",
     "text": [
      "Overwriting pipelines/train/scripts/evaluate_model.py\n"
     ]
    }
   ],
   "source": [
    "%%writefile pipelines/train/scripts/evaluate_model.py\n",
    "\n",
    "import json\n",
    "import pathlib\n",
    "import tarfile\n",
    "\n",
    "import joblib\n",
    "import numpy as np\n",
    "import pandas as pd\n",
    "import xgboost\n",
    "\n",
    "from sklearn.metrics import roc_auc_score\n",
    "\n",
    "if __name__ == \"__main__\":\n",
    "    model_path = f\"/opt/ml/processing/model/model.tar.gz\"\n",
    "    with tarfile.open(model_path) as tar:\n",
    "        tar.extraction_filter = getattr(tarfile, 'data_filter',(lambda member, path: member))\n",
    "        tar.extractall()\n",
    "\n",
    "    model = joblib.load(\"xgboost-model\")\n",
    "\n",
    "    test_path = \"/opt/ml/processing/test/test.csv\"\n",
    "    df = pd.read_csv(test_path, header=None)\n",
    "    \n",
    "    y_test = df.iloc[:, 0].to_numpy()\n",
    "    df.drop(df.columns[0], axis=1, inplace=True)\n",
    "    print (\"y_test is\", y_test) \n",
    "    print(\"y_test length is\", len(y_test)) \n",
    "\n",
    "    X_test = xgboost.DMatrix(df.values)\n",
    "\n",
    "    predictions = model.predict(X_test)\n",
    "    \n",
    "    print(\"predictions before changing to 1 and 0\", predictions) \n",
    "    for i in range(len(predictions)):\n",
    "        if predictions[i] >= 0.5:\n",
    "            predictions[i] = 1\n",
    "        else:\n",
    "            predictions[i] = 0\n",
    "    \n",
    "    print(\"predictions after changing to 1 and 0\", predictions) \n",
    "    print(\"predictions length is\", len(predictions)) \n",
    "    \n",
    "    prediction_diff=[]\n",
    "    for j in range(len(predictions)):\n",
    "        prediction_diff.append(y_test[j] - predictions[j])\n",
    "        \n",
    "    count = 0\n",
    "    for k in range(len(prediction_diff)):\n",
    "        if prediction_diff[k] == 0: \n",
    "            count = count + 1\n",
    "            \n",
    "    print(\"count is\", count) \n",
    "        \n",
    "    auc = roc_auc_score(y_test, predictions)\n",
    "    \n",
    "    report_dict= {\n",
    "        \"classification_metrics\": {\n",
    "            \"auc\": {\"value\": auc},\n",
    "        },\n",
    "    }\n",
    "    \n",
    "    print (\"auc is\", auc) \n",
    "    \n",
    "    output_dir = \"/opt/ml/processing/evaluation\"\n",
    "    pathlib.Path(output_dir).mkdir(parents=True, exist_ok=True)\n",
    "\n",
    "    evaluation_path = f\"{output_dir}/evaluation.json\"\n",
    "    with open(evaluation_path, \"w\") as f:\n",
    "        f.write(json.dumps(report_dict))"
   ]
  },
  {
   "cell_type": "markdown",
   "id": "5af91978-eb65-432b-a837-2a354b842edb",
   "metadata": {},
   "source": [
    "### 7. Copy Scripts to S3 Bucket"
   ]
  },
  {
   "cell_type": "code",
   "execution_count": 27,
   "id": "454e98a1-5cc2-4dc0-b404-5f77558d58b5",
   "metadata": {
    "tags": []
   },
   "outputs": [],
   "source": [
    "s3_client.Bucket(default_bucket).upload_file(\"pipelines/train/scripts/raw_preprocess.py\",\"mammography-severity-model/scripts/raw_preprocess.py\")\n",
    "s3_client.Bucket(default_bucket).upload_file(\"pipelines/train/scripts/evaluate_model.py\",\"mammography-severity-model/scripts/evaluate_model.py\")"
   ]
  },
  {
   "cell_type": "markdown",
   "id": "a740200e-fb41-4c7f-9def-b6b85a122e8f",
   "metadata": {},
   "source": [
    "### 8. Get Train Model Pipeline Instance"
   ]
  },
  {
   "cell_type": "code",
   "execution_count": 35,
   "id": "55d1b2f4-ebe6-4870-972c-e145c8dc655a",
   "metadata": {
    "tags": []
   },
   "outputs": [],
   "source": [
    "from pipelines.train.train_pipeline import get_pipeline\n",
    "\n",
    "train_pipeline = get_pipeline(\n",
    "                        region=region,\n",
    "                        role=role,\n",
    "                        default_bucket=default_bucket,\n",
    "                        model_artifacts_bucket=model_artifacts_bucket,\n",
    "                        model_name = model_name,\n",
    "                        kms_key = kms_key,\n",
    "                        model_package_group_name=model_package_group_name,\n",
    "                        pipeline_name=\"mammo-severity-train-pipeline\",\n",
    "                        base_job_prefix=\"mammo-severity\",\n",
    "                    )"
   ]
  },
  {
   "cell_type": "code",
   "execution_count": 36,
   "id": "ec95c529-7aae-4d19-bcd6-616315705498",
   "metadata": {
    "tags": []
   },
   "outputs": [],
   "source": [
    "train_pipeline.definition()"
   ]
  },
  {
   "cell_type": "markdown",
   "id": "7564cdfc-ae51-4387-ba01-4b42ea1ce0ae",
   "metadata": {
    "tags": []
   },
   "source": [
    "### 9. Submit the train pipeline and start execution"
   ]
  },
  {
   "cell_type": "code",
   "execution_count": 37,
   "id": "0e57f74b-6ec5-40b9-8183-f364785540f2",
   "metadata": {
    "tags": []
   },
   "outputs": [],
   "source": [
    "train_pipeline.upsert(role_arn=role)"
   ]
  },
  {
   "cell_type": "code",
   "execution_count": 34,
   "id": "711df3e9-9877-403d-9408-6b38aa06d2b2",
   "metadata": {
    "tags": []
   },
   "outputs": [],
   "source": [
    "train_execution = train_pipeline.start()"
   ]
  },
  {
   "cell_type": "markdown",
   "id": "089e8d7c-ea18-4fd3-bb93-c86def9ff58c",
   "metadata": {},
   "source": [
    "### 10. Generate script to pull the latest approved model"
   ]
  },
  {
   "cell_type": "code",
   "execution_count": 22,
   "id": "1ff8df73-a614-4c92-b358-2fc71b19ed4c",
   "metadata": {
    "tags": []
   },
   "outputs": [
    {
     "name": "stdout",
     "output_type": "stream",
     "text": [
      "Overwriting pipelines/inference/scripts/lambda_helper.py\n"
     ]
    }
   ],
   "source": [
    "%%writefile pipelines/inference/scripts/lambda_helper.py\n",
    "\n",
    "\"\"\"\n",
    "This Lambda function gets information of the latest approved model from the central model registry\n",
    "\"\"\"\n",
    "\n",
    "import boto3\n",
    "import json\n",
    "\n",
    "def lambda_handler(event, context):\n",
    "    \n",
    "    sm_client = boto3.client('sagemaker', region_name=event['region'])\n",
    "\n",
    "    # get a list of approved model packages from the model package group specified \n",
    "    approved_model_packages = sm_client.list_model_packages(\n",
    "          ModelApprovalStatus='Approved',\n",
    "          ModelPackageGroupName=event[\"model_package_group_name\"],\n",
    "          SortBy='CreationTime',\n",
    "          SortOrder='Descending'\n",
    "      )\n",
    "\n",
    "    # find the latest approved model package\n",
    "    try:\n",
    "        latest_approved_model_package_arn = approved_model_packages['ModelPackageSummaryList'][0]['ModelPackageArn']\n",
    "    except Exception as e:\n",
    "        print(\"Failed to retrieve an approved model package:\", e)\n",
    "\n",
    "    # retrieve required information about the model\n",
    "    latest_approved_model_package_descr =  sm_client.describe_model_package(ModelPackageName = latest_approved_model_package_arn)\n",
    "\n",
    "    # model artifact uri (tar.gz file)\n",
    "    model_artifact_uri = latest_approved_model_package_descr['InferenceSpecification']['Containers'][0]['ModelDataUrl']\n",
    "    # sagemaker image in ecr\n",
    "    image_uri = latest_approved_model_package_descr['InferenceSpecification']['Containers'][0]['Image']\n",
    "\n",
    "    # get baseline metrics\n",
    "    s3_baseline_uri_statistics = latest_approved_model_package_descr[\"ModelMetrics\"][\"ModelDataQuality\"][\"Statistics\"][\"S3Uri\"]\n",
    "    s3_baseline_uri_constraints = latest_approved_model_package_descr[\"ModelMetrics\"][\"ModelDataQuality\"][\"Constraints\"][\"S3Uri\"]\n",
    "\n",
    "    return {\n",
    "        \"model_artifact_uri\": model_artifact_uri,\n",
    "        \"image_uri\": image_uri,\n",
    "        \"s3_baseline_uri_statistics\": s3_baseline_uri_statistics,\n",
    "        \"s3_baseline_uri_constraints\": s3_baseline_uri_constraints\n",
    "    }"
   ]
  },
  {
   "cell_type": "markdown",
   "id": "90bd8409-b6f8-4cd3-b7c9-2a6aacc3d72c",
   "metadata": {},
   "source": [
    "#### Upload script to S3 Bucket"
   ]
  },
  {
   "cell_type": "code",
   "execution_count": 23,
   "id": "63eb950a-aa3a-481e-b732-c21a9ab43871",
   "metadata": {
    "tags": []
   },
   "outputs": [],
   "source": [
    "s3_client = boto3.resource('s3')\n",
    "s3_client.Bucket(default_bucket).upload_file(\"pipelines/inference/scripts/lambda_helper.py\",\"mammography-severity-model/scripts/lambda_helper.py\")"
   ]
  },
  {
   "cell_type": "markdown",
   "id": "c758fec4-c2a5-4c3d-83b0-68867d0eee31",
   "metadata": {
    "tags": []
   },
   "source": [
    "### 11. Get Inference Pipeline Instance Using Batch Dataset"
   ]
  },
  {
   "cell_type": "code",
   "execution_count": 38,
   "id": "f7384111-11cd-4be3-ac12-57b3534ec9f8",
   "metadata": {
    "tags": []
   },
   "outputs": [],
   "source": [
    "from pipelines.inference.inference_pipeline import get_pipeline\n",
    "\n",
    "inference_pipeline = get_pipeline(\n",
    "                        region=region,\n",
    "                        role=role,\n",
    "                        lambda_role = lambda_role,\n",
    "                        default_bucket=default_bucket,\n",
    "                        kms_key=kms_key,\n",
    "                        model_name = model_name,\n",
    "                        model_package_group_name=model_package_group_name,\n",
    "                        pipeline_name=\"mammo-severity-inference-pipeline\",\n",
    "                        batch_dataset_filename = \"mammo-batch-dataset\"\n",
    "                    )"
   ]
  },
  {
   "cell_type": "markdown",
   "id": "d75f99da-6187-49fd-89ef-70f14803c4ab",
   "metadata": {
    "tags": []
   },
   "source": [
    "### 12. Submit the inference pipeline and start execution"
   ]
  },
  {
   "cell_type": "code",
   "execution_count": 39,
   "id": "843dbcd0-d6b1-428b-8db7-f84bb2fd85ed",
   "metadata": {
    "tags": []
   },
   "outputs": [],
   "source": [
    "inference_pipeline.upsert(role_arn=role)"
   ]
  },
  {
   "cell_type": "code",
   "execution_count": 26,
   "id": "5f7285a1-aa4b-4401-aef3-eb73e6b502ca",
   "metadata": {
    "tags": []
   },
   "outputs": [],
   "source": [
    "inference_execution = inference_pipeline.start()"
   ]
  },
  {
   "cell_type": "markdown",
   "id": "93985d77-be59-4b49-b76c-eeef7d596436",
   "metadata": {},
   "source": [
    "### 13. Get Inference Pipeline Instance Using Batch Dataset with Outliers"
   ]
  },
  {
   "cell_type": "code",
   "execution_count": 40,
   "id": "29007786-166d-4e6f-9b79-9854cdae7451",
   "metadata": {},
   "outputs": [],
   "source": [
    "from pipelines.inference.inference_pipeline import get_pipeline\n",
    "\n",
    "inference_pipeline = get_pipeline(\n",
    "                        region=region,\n",
    "                        role=role,\n",
    "                        lambda_role = lambda_role,\n",
    "                        default_bucket=default_bucket,\n",
    "                        model_name = model_name,\n",
    "                        model_package_group_name=model_package_group_name,\n",
    "                        pipeline_name=\"mammo-severity-inference-pipeline\",\n",
    "                        batch_dataset_filename = \"mammo-batch-dataset-outliers\"\n",
    "                    )"
   ]
  },
  {
   "cell_type": "markdown",
   "id": "01676e3e-54af-4cf6-818d-e4dade8bd33e",
   "metadata": {},
   "source": [
    "### 14. Submit the inference pipeline and start execution"
   ]
  },
  {
   "cell_type": "code",
   "execution_count": 41,
   "id": "04b79857-4abc-40a8-8140-7c82d6fd9067",
   "metadata": {
    "tags": []
   },
   "outputs": [],
   "source": [
    "inference_pipeline.upsert(role_arn=role)"
   ]
  },
  {
   "cell_type": "code",
   "execution_count": 41,
   "id": "db4947b2-72a9-4351-9707-1c577380ba20",
   "metadata": {
    "tags": []
   },
   "outputs": [],
   "source": [
    "inference_execution = inference_pipeline.start()"
   ]
  }
 ],
 "metadata": {
  "availableInstances": [
   {
    "_defaultOrder": 0,
    "_isFastLaunch": true,
    "category": "General purpose",
    "gpuNum": 0,
    "hideHardwareSpecs": false,
    "memoryGiB": 4,
    "name": "ml.t3.medium",
    "vcpuNum": 2
   },
   {
    "_defaultOrder": 1,
    "_isFastLaunch": false,
    "category": "General purpose",
    "gpuNum": 0,
    "hideHardwareSpecs": false,
    "memoryGiB": 8,
    "name": "ml.t3.large",
    "vcpuNum": 2
   },
   {
    "_defaultOrder": 2,
    "_isFastLaunch": false,
    "category": "General purpose",
    "gpuNum": 0,
    "hideHardwareSpecs": false,
    "memoryGiB": 16,
    "name": "ml.t3.xlarge",
    "vcpuNum": 4
   },
   {
    "_defaultOrder": 3,
    "_isFastLaunch": false,
    "category": "General purpose",
    "gpuNum": 0,
    "hideHardwareSpecs": false,
    "memoryGiB": 32,
    "name": "ml.t3.2xlarge",
    "vcpuNum": 8
   },
   {
    "_defaultOrder": 4,
    "_isFastLaunch": true,
    "category": "General purpose",
    "gpuNum": 0,
    "hideHardwareSpecs": false,
    "memoryGiB": 8,
    "name": "ml.m5.large",
    "vcpuNum": 2
   },
   {
    "_defaultOrder": 5,
    "_isFastLaunch": false,
    "category": "General purpose",
    "gpuNum": 0,
    "hideHardwareSpecs": false,
    "memoryGiB": 16,
    "name": "ml.m5.xlarge",
    "vcpuNum": 4
   },
   {
    "_defaultOrder": 6,
    "_isFastLaunch": false,
    "category": "General purpose",
    "gpuNum": 0,
    "hideHardwareSpecs": false,
    "memoryGiB": 32,
    "name": "ml.m5.2xlarge",
    "vcpuNum": 8
   },
   {
    "_defaultOrder": 7,
    "_isFastLaunch": false,
    "category": "General purpose",
    "gpuNum": 0,
    "hideHardwareSpecs": false,
    "memoryGiB": 64,
    "name": "ml.m5.4xlarge",
    "vcpuNum": 16
   },
   {
    "_defaultOrder": 8,
    "_isFastLaunch": false,
    "category": "General purpose",
    "gpuNum": 0,
    "hideHardwareSpecs": false,
    "memoryGiB": 128,
    "name": "ml.m5.8xlarge",
    "vcpuNum": 32
   },
   {
    "_defaultOrder": 9,
    "_isFastLaunch": false,
    "category": "General purpose",
    "gpuNum": 0,
    "hideHardwareSpecs": false,
    "memoryGiB": 192,
    "name": "ml.m5.12xlarge",
    "vcpuNum": 48
   },
   {
    "_defaultOrder": 10,
    "_isFastLaunch": false,
    "category": "General purpose",
    "gpuNum": 0,
    "hideHardwareSpecs": false,
    "memoryGiB": 256,
    "name": "ml.m5.16xlarge",
    "vcpuNum": 64
   },
   {
    "_defaultOrder": 11,
    "_isFastLaunch": false,
    "category": "General purpose",
    "gpuNum": 0,
    "hideHardwareSpecs": false,
    "memoryGiB": 384,
    "name": "ml.m5.24xlarge",
    "vcpuNum": 96
   },
   {
    "_defaultOrder": 12,
    "_isFastLaunch": false,
    "category": "General purpose",
    "gpuNum": 0,
    "hideHardwareSpecs": false,
    "memoryGiB": 8,
    "name": "ml.m5d.large",
    "vcpuNum": 2
   },
   {
    "_defaultOrder": 13,
    "_isFastLaunch": false,
    "category": "General purpose",
    "gpuNum": 0,
    "hideHardwareSpecs": false,
    "memoryGiB": 16,
    "name": "ml.m5d.xlarge",
    "vcpuNum": 4
   },
   {
    "_defaultOrder": 14,
    "_isFastLaunch": false,
    "category": "General purpose",
    "gpuNum": 0,
    "hideHardwareSpecs": false,
    "memoryGiB": 32,
    "name": "ml.m5d.2xlarge",
    "vcpuNum": 8
   },
   {
    "_defaultOrder": 15,
    "_isFastLaunch": false,
    "category": "General purpose",
    "gpuNum": 0,
    "hideHardwareSpecs": false,
    "memoryGiB": 64,
    "name": "ml.m5d.4xlarge",
    "vcpuNum": 16
   },
   {
    "_defaultOrder": 16,
    "_isFastLaunch": false,
    "category": "General purpose",
    "gpuNum": 0,
    "hideHardwareSpecs": false,
    "memoryGiB": 128,
    "name": "ml.m5d.8xlarge",
    "vcpuNum": 32
   },
   {
    "_defaultOrder": 17,
    "_isFastLaunch": false,
    "category": "General purpose",
    "gpuNum": 0,
    "hideHardwareSpecs": false,
    "memoryGiB": 192,
    "name": "ml.m5d.12xlarge",
    "vcpuNum": 48
   },
   {
    "_defaultOrder": 18,
    "_isFastLaunch": false,
    "category": "General purpose",
    "gpuNum": 0,
    "hideHardwareSpecs": false,
    "memoryGiB": 256,
    "name": "ml.m5d.16xlarge",
    "vcpuNum": 64
   },
   {
    "_defaultOrder": 19,
    "_isFastLaunch": false,
    "category": "General purpose",
    "gpuNum": 0,
    "hideHardwareSpecs": false,
    "memoryGiB": 384,
    "name": "ml.m5d.24xlarge",
    "vcpuNum": 96
   },
   {
    "_defaultOrder": 20,
    "_isFastLaunch": false,
    "category": "General purpose",
    "gpuNum": 0,
    "hideHardwareSpecs": true,
    "memoryGiB": 0,
    "name": "ml.geospatial.interactive",
    "supportedImageNames": [
     "sagemaker-geospatial-v1-0"
    ],
    "vcpuNum": 0
   },
   {
    "_defaultOrder": 21,
    "_isFastLaunch": true,
    "category": "Compute optimized",
    "gpuNum": 0,
    "hideHardwareSpecs": false,
    "memoryGiB": 4,
    "name": "ml.c5.large",
    "vcpuNum": 2
   },
   {
    "_defaultOrder": 22,
    "_isFastLaunch": false,
    "category": "Compute optimized",
    "gpuNum": 0,
    "hideHardwareSpecs": false,
    "memoryGiB": 8,
    "name": "ml.c5.xlarge",
    "vcpuNum": 4
   },
   {
    "_defaultOrder": 23,
    "_isFastLaunch": false,
    "category": "Compute optimized",
    "gpuNum": 0,
    "hideHardwareSpecs": false,
    "memoryGiB": 16,
    "name": "ml.c5.2xlarge",
    "vcpuNum": 8
   },
   {
    "_defaultOrder": 24,
    "_isFastLaunch": false,
    "category": "Compute optimized",
    "gpuNum": 0,
    "hideHardwareSpecs": false,
    "memoryGiB": 32,
    "name": "ml.c5.4xlarge",
    "vcpuNum": 16
   },
   {
    "_defaultOrder": 25,
    "_isFastLaunch": false,
    "category": "Compute optimized",
    "gpuNum": 0,
    "hideHardwareSpecs": false,
    "memoryGiB": 72,
    "name": "ml.c5.9xlarge",
    "vcpuNum": 36
   },
   {
    "_defaultOrder": 26,
    "_isFastLaunch": false,
    "category": "Compute optimized",
    "gpuNum": 0,
    "hideHardwareSpecs": false,
    "memoryGiB": 96,
    "name": "ml.c5.12xlarge",
    "vcpuNum": 48
   },
   {
    "_defaultOrder": 27,
    "_isFastLaunch": false,
    "category": "Compute optimized",
    "gpuNum": 0,
    "hideHardwareSpecs": false,
    "memoryGiB": 144,
    "name": "ml.c5.18xlarge",
    "vcpuNum": 72
   },
   {
    "_defaultOrder": 28,
    "_isFastLaunch": false,
    "category": "Compute optimized",
    "gpuNum": 0,
    "hideHardwareSpecs": false,
    "memoryGiB": 192,
    "name": "ml.c5.24xlarge",
    "vcpuNum": 96
   },
   {
    "_defaultOrder": 29,
    "_isFastLaunch": true,
    "category": "Accelerated computing",
    "gpuNum": 1,
    "hideHardwareSpecs": false,
    "memoryGiB": 16,
    "name": "ml.g4dn.xlarge",
    "vcpuNum": 4
   },
   {
    "_defaultOrder": 30,
    "_isFastLaunch": false,
    "category": "Accelerated computing",
    "gpuNum": 1,
    "hideHardwareSpecs": false,
    "memoryGiB": 32,
    "name": "ml.g4dn.2xlarge",
    "vcpuNum": 8
   },
   {
    "_defaultOrder": 31,
    "_isFastLaunch": false,
    "category": "Accelerated computing",
    "gpuNum": 1,
    "hideHardwareSpecs": false,
    "memoryGiB": 64,
    "name": "ml.g4dn.4xlarge",
    "vcpuNum": 16
   },
   {
    "_defaultOrder": 32,
    "_isFastLaunch": false,
    "category": "Accelerated computing",
    "gpuNum": 1,
    "hideHardwareSpecs": false,
    "memoryGiB": 128,
    "name": "ml.g4dn.8xlarge",
    "vcpuNum": 32
   },
   {
    "_defaultOrder": 33,
    "_isFastLaunch": false,
    "category": "Accelerated computing",
    "gpuNum": 4,
    "hideHardwareSpecs": false,
    "memoryGiB": 192,
    "name": "ml.g4dn.12xlarge",
    "vcpuNum": 48
   },
   {
    "_defaultOrder": 34,
    "_isFastLaunch": false,
    "category": "Accelerated computing",
    "gpuNum": 1,
    "hideHardwareSpecs": false,
    "memoryGiB": 256,
    "name": "ml.g4dn.16xlarge",
    "vcpuNum": 64
   },
   {
    "_defaultOrder": 35,
    "_isFastLaunch": false,
    "category": "Accelerated computing",
    "gpuNum": 1,
    "hideHardwareSpecs": false,
    "memoryGiB": 61,
    "name": "ml.p3.2xlarge",
    "vcpuNum": 8
   },
   {
    "_defaultOrder": 36,
    "_isFastLaunch": false,
    "category": "Accelerated computing",
    "gpuNum": 4,
    "hideHardwareSpecs": false,
    "memoryGiB": 244,
    "name": "ml.p3.8xlarge",
    "vcpuNum": 32
   },
   {
    "_defaultOrder": 37,
    "_isFastLaunch": false,
    "category": "Accelerated computing",
    "gpuNum": 8,
    "hideHardwareSpecs": false,
    "memoryGiB": 488,
    "name": "ml.p3.16xlarge",
    "vcpuNum": 64
   },
   {
    "_defaultOrder": 38,
    "_isFastLaunch": false,
    "category": "Accelerated computing",
    "gpuNum": 8,
    "hideHardwareSpecs": false,
    "memoryGiB": 768,
    "name": "ml.p3dn.24xlarge",
    "vcpuNum": 96
   },
   {
    "_defaultOrder": 39,
    "_isFastLaunch": false,
    "category": "Memory Optimized",
    "gpuNum": 0,
    "hideHardwareSpecs": false,
    "memoryGiB": 16,
    "name": "ml.r5.large",
    "vcpuNum": 2
   },
   {
    "_defaultOrder": 40,
    "_isFastLaunch": false,
    "category": "Memory Optimized",
    "gpuNum": 0,
    "hideHardwareSpecs": false,
    "memoryGiB": 32,
    "name": "ml.r5.xlarge",
    "vcpuNum": 4
   },
   {
    "_defaultOrder": 41,
    "_isFastLaunch": false,
    "category": "Memory Optimized",
    "gpuNum": 0,
    "hideHardwareSpecs": false,
    "memoryGiB": 64,
    "name": "ml.r5.2xlarge",
    "vcpuNum": 8
   },
   {
    "_defaultOrder": 42,
    "_isFastLaunch": false,
    "category": "Memory Optimized",
    "gpuNum": 0,
    "hideHardwareSpecs": false,
    "memoryGiB": 128,
    "name": "ml.r5.4xlarge",
    "vcpuNum": 16
   },
   {
    "_defaultOrder": 43,
    "_isFastLaunch": false,
    "category": "Memory Optimized",
    "gpuNum": 0,
    "hideHardwareSpecs": false,
    "memoryGiB": 256,
    "name": "ml.r5.8xlarge",
    "vcpuNum": 32
   },
   {
    "_defaultOrder": 44,
    "_isFastLaunch": false,
    "category": "Memory Optimized",
    "gpuNum": 0,
    "hideHardwareSpecs": false,
    "memoryGiB": 384,
    "name": "ml.r5.12xlarge",
    "vcpuNum": 48
   },
   {
    "_defaultOrder": 45,
    "_isFastLaunch": false,
    "category": "Memory Optimized",
    "gpuNum": 0,
    "hideHardwareSpecs": false,
    "memoryGiB": 512,
    "name": "ml.r5.16xlarge",
    "vcpuNum": 64
   },
   {
    "_defaultOrder": 46,
    "_isFastLaunch": false,
    "category": "Memory Optimized",
    "gpuNum": 0,
    "hideHardwareSpecs": false,
    "memoryGiB": 768,
    "name": "ml.r5.24xlarge",
    "vcpuNum": 96
   },
   {
    "_defaultOrder": 47,
    "_isFastLaunch": false,
    "category": "Accelerated computing",
    "gpuNum": 1,
    "hideHardwareSpecs": false,
    "memoryGiB": 16,
    "name": "ml.g5.xlarge",
    "vcpuNum": 4
   },
   {
    "_defaultOrder": 48,
    "_isFastLaunch": false,
    "category": "Accelerated computing",
    "gpuNum": 1,
    "hideHardwareSpecs": false,
    "memoryGiB": 32,
    "name": "ml.g5.2xlarge",
    "vcpuNum": 8
   },
   {
    "_defaultOrder": 49,
    "_isFastLaunch": false,
    "category": "Accelerated computing",
    "gpuNum": 1,
    "hideHardwareSpecs": false,
    "memoryGiB": 64,
    "name": "ml.g5.4xlarge",
    "vcpuNum": 16
   },
   {
    "_defaultOrder": 50,
    "_isFastLaunch": false,
    "category": "Accelerated computing",
    "gpuNum": 1,
    "hideHardwareSpecs": false,
    "memoryGiB": 128,
    "name": "ml.g5.8xlarge",
    "vcpuNum": 32
   },
   {
    "_defaultOrder": 51,
    "_isFastLaunch": false,
    "category": "Accelerated computing",
    "gpuNum": 1,
    "hideHardwareSpecs": false,
    "memoryGiB": 256,
    "name": "ml.g5.16xlarge",
    "vcpuNum": 64
   },
   {
    "_defaultOrder": 52,
    "_isFastLaunch": false,
    "category": "Accelerated computing",
    "gpuNum": 4,
    "hideHardwareSpecs": false,
    "memoryGiB": 192,
    "name": "ml.g5.12xlarge",
    "vcpuNum": 48
   },
   {
    "_defaultOrder": 53,
    "_isFastLaunch": false,
    "category": "Accelerated computing",
    "gpuNum": 4,
    "hideHardwareSpecs": false,
    "memoryGiB": 384,
    "name": "ml.g5.24xlarge",
    "vcpuNum": 96
   },
   {
    "_defaultOrder": 54,
    "_isFastLaunch": false,
    "category": "Accelerated computing",
    "gpuNum": 8,
    "hideHardwareSpecs": false,
    "memoryGiB": 768,
    "name": "ml.g5.48xlarge",
    "vcpuNum": 192
   },
   {
    "_defaultOrder": 55,
    "_isFastLaunch": false,
    "category": "Accelerated computing",
    "gpuNum": 8,
    "hideHardwareSpecs": false,
    "memoryGiB": 1152,
    "name": "ml.p4d.24xlarge",
    "vcpuNum": 96
   },
   {
    "_defaultOrder": 56,
    "_isFastLaunch": false,
    "category": "Accelerated computing",
    "gpuNum": 8,
    "hideHardwareSpecs": false,
    "memoryGiB": 1152,
    "name": "ml.p4de.24xlarge",
    "vcpuNum": 96
   }
  ],
  "instance_type": "ml.t3.medium",
  "kernelspec": {
   "display_name": "Python 3 (Data Science)",
   "language": "python",
   "name": "python3__SAGEMAKER_INTERNAL__arn:aws:sagemaker:us-east-1:081325390199:image/datascience-1.0"
  },
  "language_info": {
   "codemirror_mode": {
    "name": "ipython",
    "version": 3
   },
   "file_extension": ".py",
   "mimetype": "text/x-python",
   "name": "python",
   "nbconvert_exporter": "python",
   "pygments_lexer": "ipython3",
   "version": "3.7.10"
  }
 },
 "nbformat": 4,
 "nbformat_minor": 5
}
